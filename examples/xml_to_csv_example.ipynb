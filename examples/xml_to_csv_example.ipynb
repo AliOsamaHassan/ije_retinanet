{
 "cells": [
  {
   "cell_type": "code",
   "execution_count": 3,
   "metadata": {},
   "outputs": [
    {
     "name": "stdout",
     "output_type": "stream",
     "text": [
      "usage: build_dataset.py [-h] -i INPUT -l LABELS -r TRAIN -e TEST -c CLASSES -a\r\n",
      "                        ANNOTATIONS [-s SPLIT]\r\n",
      "\r\n",
      "optional arguments:\r\n",
      "  -h, --help            show this help message and exit\r\n",
      "  -i INPUT, --input INPUT\r\n",
      "                        path to input images directory\r\n",
      "  -l LABELS, --labels LABELS\r\n",
      "                        path to annotations directory\r\n",
      "  -r TRAIN, --train TRAIN\r\n",
      "                        path to output training.csv file\r\n",
      "  -e TEST, --test TEST  path to outpust test.csv file\r\n",
      "  -c CLASSES, --classes CLASSES\r\n",
      "                        path to output classes.csv file\r\n",
      "  -a ANNOTATIONS, --annotations ANNOTATIONS\r\n",
      "                        path to annotations.csv\r\n",
      "  -s SPLIT, --split SPLIT\r\n",
      "                        train/test split\r\n"
     ]
    }
   ],
   "source": [
    "!python /Users/apple/ije_retinanet/build_dataset.py -h"
   ]
  },
  {
   "cell_type": "code",
   "execution_count": 1,
   "metadata": {},
   "outputs": [
    {
     "name": "stdout",
     "output_type": "stream",
     "text": [
      "[INFO] creating 'train' set ...\n",
      "[INFO] 2998 total images in 'train'\n",
      "[INFO] writing train annotations ...\n",
      "[INFO] train.csv completed\n",
      "[INFO] creating 'test' set ...\n",
      "[INFO] 750 total images in 'test'\n",
      "[INFO] writing test annotations ...\n",
      "[INFO] test.csv completed\n",
      "[INFO] writing classes ...\n",
      "[INFO] classes.csv completed\n",
      "[FINAL] Task completed!\n"
     ]
    }
   ],
   "source": [
    "!python /Users/apple/ije_retinanet/build_dataset.py \\\n",
    "-l /Users/apple/Downloads/swimming-pool-and-car-detection/training_data/labels/ \\\n",
    "-i /Users/apple/Downloads/swimming-pool-and-car-detection/training_data/images/ \\\n",
    "-r /Users/apple/justincase/output/train.csv \\\n",
    "-e /Users/apple/justincase/output/test.csv \\\n",
    "-c /Users/apple/justincase/output/classes.csv"
   ]
  },
  {
   "cell_type": "code",
   "execution_count": 2,
   "metadata": {},
   "outputs": [
    {
     "name": "stdout",
     "output_type": "stream",
     "text": [
      "   12514 /Users/apple/justincase/output/train.csv\r\n"
     ]
    }
   ],
   "source": [
    "!wc -l /Users/apple/justincase/output/train.csv"
   ]
  },
  {
   "cell_type": "code",
   "execution_count": 3,
   "metadata": {},
   "outputs": [
    {
     "name": "stdout",
     "output_type": "stream",
     "text": [
      "   16003 /Users/apple/justincase/output/test.csv\r\n"
     ]
    }
   ],
   "source": [
    "!wc -l /Users/apple/justincase/output/test.csv"
   ]
  },
  {
   "cell_type": "markdown",
   "metadata": {},
   "source": [
    "## Convert a list of xml annotation files into annotation and class CSVs"
   ]
  },
  {
   "cell_type": "code",
   "execution_count": 8,
   "metadata": {
    "scrolled": false
   },
   "outputs": [
    {
     "name": "stdout",
     "output_type": "stream",
     "text": [
      "usage: xml_csv.py [-h] -i INPUT_DIR -l LABELS -a ANNOTION_CSV -c CLASSES_CSV\r\n",
      "\r\n",
      "optional arguments:\r\n",
      "  -h, --help            show this help message and exit\r\n",
      "  -i INPUT_DIR, --input_dir INPUT_DIR\r\n",
      "                        path to train images directory\r\n",
      "  -l LABELS, --labels LABELS\r\n",
      "                        path to labels directory\r\n",
      "  -a ANNOTION_CSV, --annotion_csv ANNOTION_CSV\r\n",
      "                        path to annotations csv\r\n",
      "  -c CLASSES_CSV, --classes_csv CLASSES_CSV\r\n",
      "                        path to classes csv\r\n"
     ]
    }
   ],
   "source": [
    "!python /Users/apple/ijeism_retinanet/xml_csv.py -h"
   ]
  },
  {
   "cell_type": "code",
   "execution_count": 40,
   "metadata": {},
   "outputs": [],
   "source": [
    "# create output folder\n",
    "!mkdir /Users/apple/ijeism_retinanet/trial\n",
    "!mkdir /Users/apple/ijeism_retinanet/trial/output"
   ]
  },
  {
   "cell_type": "code",
   "execution_count": 41,
   "metadata": {},
   "outputs": [
    {
     "name": "stdout",
     "output_type": "stream",
     "text": [
      "[INFO] Annotations .csv completed\r\n",
      "[INFO] Classes .csv completed\r\n"
     ]
    }
   ],
   "source": [
    "!python /Users/apple/ijeism_retinanet/xml_csv.py \\\n",
    "-i /Users/apple/Downloads/pool_car_detection/training_data/images/ \\\n",
    "-l /Users/apple/Downloads/pool_car_detection/training_data/labels/ \\\n",
    "-a /Users/apple/ijeism_retinanet/trial/annotations.csv \\\n",
    "-c /Users/apple/ijeism_retinanet/trial/classes.csv"
   ]
  },
  {
   "cell_type": "code",
   "execution_count": null,
   "metadata": {},
   "outputs": [],
   "source": [
    "# deleted created folder\n",
    "# !rm -R /Users/apple/ijeism_retinanet/trial"
   ]
  }
 ],
 "metadata": {
  "kernelspec": {
   "display_name": "Python 3",
   "language": "python",
   "name": "python3"
  },
  "language_info": {
   "codemirror_mode": {
    "name": "ipython",
    "version": 3
   },
   "file_extension": ".py",
   "mimetype": "text/x-python",
   "name": "python",
   "nbconvert_exporter": "python",
   "pygments_lexer": "ipython3",
   "version": "3.7.0"
  }
 },
 "nbformat": 4,
 "nbformat_minor": 2
}
