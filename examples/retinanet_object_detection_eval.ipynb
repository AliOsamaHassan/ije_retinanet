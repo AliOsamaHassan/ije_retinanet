{
 "cells": [
  {
   "cell_type": "markdown",
   "metadata": {},
   "source": [
    "## Build dataset"
   ]
  },
  {
   "cell_type": "code",
   "execution_count": 8,
   "metadata": {},
   "outputs": [],
   "source": [
    "test_data_dir = '/User/apple/Downloads/pool_car_detection/test_data_images/images/'\n",
    "train_data_dir = '/User/apple/Downloads/pool_car_detection/training_data/images/'\n",
    "train_labels_dir = '/User/apple/Downloads/pool_car_detection/training_data/labels/'"
   ]
  },
  {
   "cell_type": "code",
   "execution_count": 32,
   "metadata": {},
   "outputs": [
    {
     "name": "stdout",
     "output_type": "stream",
     "text": [
      "/Users/apple/ijeism_retinanet\n",
      "[INFO] creating 'train' set ...\n",
      "[INFO] 2811 total images in 'train'\n",
      "[INFO] creating 'test' set ...\n",
      "[INFO] 937 total images in 'test'\n",
      "[INFO] writing classes ...\n"
     ]
    }
   ],
   "source": [
    "%cd /Users/apple/ijeism_retinanet/\n",
    "!python build_dataset.py "
   ]
  },
  {
   "cell_type": "markdown",
   "metadata": {},
   "source": [
    "## Train CNN"
   ]
  },
  {
   "cell_type": "code",
   "execution_count": 35,
   "metadata": {},
   "outputs": [],
   "source": [
    "PRETRAINED_MODEL = '/Users/apple/keras-retinanet/snapshots/resnet50_coco_best_v2.1.0.h5'"
   ]
  },
  {
   "cell_type": "code",
   "execution_count": 44,
   "metadata": {},
   "outputs": [
    {
     "name": "stdout",
     "output_type": "stream",
     "text": [
      "/Users/apple\n",
      "Using TensorFlow backend.\n",
      "^C\n",
      "Traceback (most recent call last):\n",
      "  File \"/Users/apple/keras-retinanet/keras_retinanet/bin/train.py\", line 521, in <module>\n",
      "    main()\n",
      "  File \"/Users/apple/keras-retinanet/keras_retinanet/bin/train.py\", line 457, in main\n",
      "    train_generator, validation_generator = create_generators(args, backbone.preprocess_image)\n",
      "  File \"/Users/apple/keras-retinanet/keras_retinanet/bin/train.py\", line 284, in create_generators\n",
      "    **common_args\n",
      "  File \"/Users/apple/keras-retinanet/keras_retinanet/bin/../../keras_retinanet/preprocessing/csv_generator.py\", line 156, in __init__\n",
      "    self.image_data = _read_annotations(csv.reader(file, delimiter=','), self.classes)\n",
      "  File \"/Users/apple/keras-retinanet/keras_retinanet/bin/../../keras_retinanet/preprocessing/csv_generator.py\", line 86, in _read_annotations\n",
      "    y2 = _parse(y2, int, 'line {}: malformed y2: {{}}'.format(line))\n",
      "KeyboardInterrupt\n"
     ]
    }
   ],
   "source": [
    "%cd /Users/apple\n",
    "\n",
    "!python /Users/apple/keras-retinanet/keras_retinanet/bin/train.py \\\n",
    "--freeze-backbone \\\n",
    "--random-transform \\\n",
    "--weights {PRETRAINED_MODEL} \\\n",
    "--batch-size 8 \\\n",
    "--steps 500 \\\n",
    "--epochs 15 \\\n",
    "csv '/Users/apple/ijeism_retinanet/dataset/train.csv' '/Users/apple/ijeism_retinanet/dataset/classes.csv'"
   ]
  },
  {
   "cell_type": "markdown",
   "metadata": {},
   "source": [
    "### Evaluate model"
   ]
  },
  {
   "cell_type": "code",
   "execution_count": 64,
   "metadata": {},
   "outputs": [
    {
     "name": "stdout",
     "output_type": "stream",
     "text": [
      "Using TensorFlow backend.\n",
      "Loading model, this may take a second...\n",
      "WARNING:tensorflow:From /Users/apple/.pyenv/versions/3.7.0/lib/python3.7/site-packages/tensorflow/python/ops/resource_variable_ops.py:435: colocate_with (from tensorflow.python.framework.ops) is deprecated and will be removed in a future version.\n",
      "Instructions for updating:\n",
      "Colocations handled automatically by placer.\n",
      "2019-11-05 16:22:11.077158: I tensorflow/core/platform/cpu_feature_guard.cc:141] Your CPU supports instructions that this TensorFlow binary was not compiled to use: AVX2 FMA\n",
      "tracking <tf.Variable 'Variable:0' shape=(9, 4) dtype=float32> anchors\n",
      "tracking <tf.Variable 'Variable_1:0' shape=(9, 4) dtype=float32> anchors\n",
      "tracking <tf.Variable 'Variable_2:0' shape=(9, 4) dtype=float32> anchors\n",
      "tracking <tf.Variable 'Variable_3:0' shape=(9, 4) dtype=float32> anchors\n",
      "tracking <tf.Variable 'Variable_4:0' shape=(9, 4) dtype=float32> anchors\n",
      "Running network:  10% (409 of 3736) |    | Elapsed Time: 0:27:07 ETA:   6:08:17^C\n",
      "Traceback (most recent call last):\n",
      "  File \"/Users/apple/keras-retinanet/keras_retinanet/bin/evaluate.py\", line 180, in <module>\n",
      "    main()\n",
      "  File \"/Users/apple/keras-retinanet/keras_retinanet/bin/evaluate.py\", line 159, in main\n",
      "    save_path=args.save_path\n",
      "  File \"/Users/apple/keras-retinanet/keras_retinanet/bin/../../keras_retinanet/utils/eval.py\", line 168, in evaluate\n",
      "    all_detections     = _get_detections(generator, model, score_threshold=score_threshold, max_detections=max_detections, save_path=save_path)\n",
      "  File \"/Users/apple/keras-retinanet/keras_retinanet/bin/../../keras_retinanet/utils/eval.py\", line 84, in _get_detections\n",
      "    boxes, scores, labels = model.predict_on_batch(np.expand_dims(image, axis=0))[:3]\n",
      "  File \"/Users/apple/.pyenv/versions/3.7.0/lib/python3.7/site-packages/keras/engine/training.py\", line 1580, in predict_on_batch\n",
      "    outputs = self.predict_function(ins)\n",
      "  File \"/Users/apple/.pyenv/versions/3.7.0/lib/python3.7/site-packages/tensorflow/python/keras/backend.py\", line 3076, in __call__\n",
      "    run_metadata=self.run_metadata)\n",
      "  File \"/Users/apple/.pyenv/versions/3.7.0/lib/python3.7/site-packages/tensorflow/python/client/session.py\", line 1439, in __call__\n",
      "    run_metadata_ptr)\n",
      "KeyboardInterrupt\n"
     ]
    }
   ],
   "source": [
    "!python /Users/apple/keras-retinanet/keras_retinanet/bin/evaluate.py \\\n",
    "csv '/Users/apple/ijeism_retinanet/dataset/test.csv' \\\n",
    "'/Users/apple/ijeism_retinanet/dataset/classes.csv' \\\n",
    "/Users/apple/Resnet_trained_models/resnet50_csv_20.h5 --convert-model"
   ]
  },
  {
   "cell_type": "code",
   "execution_count": null,
   "metadata": {},
   "outputs": [],
   "source": []
  }
 ],
 "metadata": {
  "kernelspec": {
   "display_name": "Python 3",
   "language": "python",
   "name": "python3"
  },
  "language_info": {
   "codemirror_mode": {
    "name": "ipython",
    "version": 3
   },
   "file_extension": ".py",
   "mimetype": "text/x-python",
   "name": "python",
   "nbconvert_exporter": "python",
   "pygments_lexer": "ipython3",
   "version": "3.7.0"
  }
 },
 "nbformat": 4,
 "nbformat_minor": 2
}
